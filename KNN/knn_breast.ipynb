{
 "metadata": {
  "language_info": {
   "codemirror_mode": {
    "name": "ipython",
    "version": 3
   },
   "file_extension": ".py",
   "mimetype": "text/x-python",
   "name": "python",
   "nbconvert_exporter": "python",
   "pygments_lexer": "ipython3",
   "version": "3.7.0-final"
  },
  "orig_nbformat": 2,
  "kernelspec": {
   "name": "python_defaultSpec_1600353236890",
   "display_name": "Python 3.7.0 64-bit ('tf2': conda)"
  }
 },
 "nbformat": 4,
 "nbformat_minor": 2,
 "cells": [
  {
   "cell_type": "code",
   "execution_count": 4,
   "metadata": {},
   "outputs": [
    {
     "output_type": "execute_result",
     "data": {
      "text/plain": "        0   1   2   3   4   5   6   7   8   9   10\n0  1000025   5   1   1   1   2   1   3   1   1   2\n1  1002945   5   4   4   5   7  10   3   2   1   2\n2  1015425   3   1   1   1   2   2   3   1   1   2",
      "text/html": "<div>\n<style scoped>\n    .dataframe tbody tr th:only-of-type {\n        vertical-align: middle;\n    }\n\n    .dataframe tbody tr th {\n        vertical-align: top;\n    }\n\n    .dataframe thead th {\n        text-align: right;\n    }\n</style>\n<table border=\"1\" class=\"dataframe\">\n  <thead>\n    <tr style=\"text-align: right;\">\n      <th></th>\n      <th>0</th>\n      <th>1</th>\n      <th>2</th>\n      <th>3</th>\n      <th>4</th>\n      <th>5</th>\n      <th>6</th>\n      <th>7</th>\n      <th>8</th>\n      <th>9</th>\n      <th>10</th>\n    </tr>\n  </thead>\n  <tbody>\n    <tr>\n      <th>0</th>\n      <td>1000025</td>\n      <td>5</td>\n      <td>1</td>\n      <td>1</td>\n      <td>1</td>\n      <td>2</td>\n      <td>1</td>\n      <td>3</td>\n      <td>1</td>\n      <td>1</td>\n      <td>2</td>\n    </tr>\n    <tr>\n      <th>1</th>\n      <td>1002945</td>\n      <td>5</td>\n      <td>4</td>\n      <td>4</td>\n      <td>5</td>\n      <td>7</td>\n      <td>10</td>\n      <td>3</td>\n      <td>2</td>\n      <td>1</td>\n      <td>2</td>\n    </tr>\n    <tr>\n      <th>2</th>\n      <td>1015425</td>\n      <td>3</td>\n      <td>1</td>\n      <td>1</td>\n      <td>1</td>\n      <td>2</td>\n      <td>2</td>\n      <td>3</td>\n      <td>1</td>\n      <td>1</td>\n      <td>2</td>\n    </tr>\n  </tbody>\n</table>\n</div>"
     },
     "metadata": {},
     "execution_count": 4
    }
   ],
   "source": [
    "import pandas as pd\n",
    "import numpy as np\n",
    "data=pd.read_csv(\"breast-cancer-wisconsin.data\",header=None)\n",
    "data.head(3)"
   ]
  },
  {
   "cell_type": "code",
   "execution_count": 11,
   "metadata": {},
   "outputs": [
    {
     "output_type": "execute_result",
     "data": {
      "text/plain": "0      int64\n1      int64\n2      int64\n3      int64\n4      int64\n5      int64\n6     object\n7      int64\n8      int64\n9      int64\n10     int64\ndtype: object"
     },
     "metadata": {},
     "execution_count": 11
    }
   ],
   "source": [
    "data.dtypes"
   ]
  },
  {
   "cell_type": "code",
   "execution_count": 25,
   "metadata": {
    "tags": []
   },
   "outputs": [
    {
     "output_type": "stream",
     "name": "stdout",
     "text": "before delete ['1' '10' '2' '4' '3' '9' '7' '5' '8' '6']\nafter delete ['1' '10' '2' '4' '3' '9' '7' '5' '8' '6']\n"
    }
   ],
   "source": [
    "# remove the rows containing \"?\"\n",
    "print(\"before delete\",data.loc[:,6].unique())\n",
    "data=data.drop(data.loc[data.loc[:,6]==\"?\"].index)\n",
    "print(\"after delete\",data.loc[:,6].unique())"
   ]
  },
  {
   "cell_type": "code",
   "execution_count": 27,
   "metadata": {},
   "outputs": [
    {
     "output_type": "execute_result",
     "data": {
      "text/plain": "0     int64\n1     int64\n2     int64\n3     int64\n4     int64\n5     int64\n6     int32\n7     int64\n8     int64\n9     int64\n10    int64\ndtype: object"
     },
     "metadata": {},
     "execution_count": 27
    }
   ],
   "source": [
    "# change the type of data\n",
    "data.loc[:,6]=data.loc[:,6].astype(int)\n",
    "data.dtypes"
   ]
  },
  {
   "cell_type": "code",
   "execution_count": 30,
   "metadata": {
    "tags": []
   },
   "outputs": [
    {
     "output_type": "stream",
     "name": "stdout",
     "text": "1  2  3  4  5   6  7  8  9\n0  5  1  1  1  2   1  3  1  1\n1  5  4  4  5  7  10  3  2  1 (683, 9)\n0    2\n1    2\nName: 10, dtype: int64 (683,)\n"
    }
   ],
   "source": [
    "# divide the data to two parts: features and labels\n",
    "features=data.loc[:,1:9]\n",
    "labels=data.loc[:,10]\n",
    "print(features.head(2),features.shape)\n",
    "print(labels.head(2),labels.shape)"
   ]
  },
  {
   "cell_type": "code",
   "execution_count": 33,
   "metadata": {
    "tags": []
   },
   "outputs": [
    {
     "output_type": "stream",
     "name": "stdout",
     "text": "total 683:train 546,test 137\n"
    }
   ],
   "source": [
    "total_rows=len(features.index)\n",
    "train_rows=int(total_rows*0.8)\n",
    "test_rows=total_rows-train_rows\n",
    "print(\"total {}:train {},test {}\".format(total_rows,train_rows,test_rows))"
   ]
  },
  {
   "cell_type": "code",
   "execution_count": 38,
   "metadata": {
    "tags": []
   },
   "outputs": [
    {
     "output_type": "stream",
     "name": "stdout",
     "text": "train samples: (546, 9) (546,)\ntest samples: (137, 9) (137,)\n"
    }
   ],
   "source": [
    "# divide the dataset into train set and test set\n",
    "train_features=features[:train_rows].values\n",
    "train_labels=labels[:train_rows].values\n",
    "print(\"train samples:\",train_features.shape,train_labels.shape)\n",
    "test_features=features[train_rows:].values\n",
    "test_labels=labels[train_rows:].values\n",
    "print(\"test samples:\",test_features.shape,test_labels.shape)"
   ]
  },
  {
   "cell_type": "code",
   "execution_count": 64,
   "metadata": {
    "tags": []
   },
   "outputs": [],
   "source": [
    "# knn classification\n",
    "k=3\n",
    "pred_result=[]\n",
    "for i in range(test_rows):\n",
    "    f=np.tile(test_features[i],(train_features.shape[0],1))\n",
    "    diff=np.square(f-train_features).sum(axis=1)\n",
    "    sorted_indices=diff.argsort()\n",
    "    results=train_labels[sorted_indices[:k]]\n",
    "    class_count={}\n",
    "    for r in results:\n",
    "        if not class_count.__contains__(r):\n",
    "            class_count.setdefault(r,0)\n",
    "        class_count[r]+=1\n",
    "    sorted_count=sorted(class_count.items(),key=lambda x:x[1],reverse=True)\n",
    "    pred_result.append(sorted_count[0][0])"
   ]
  },
  {
   "cell_type": "code",
   "execution_count": 65,
   "metadata": {
    "tags": []
   },
   "outputs": [
    {
     "output_type": "stream",
     "name": "stdout",
     "text": "correct rate: 0.9854014598540146\n"
    }
   ],
   "source": [
    "# error rate\n",
    "correct_number=np.array(pred_result==test_labels).sum()\n",
    "correct_rate=correct_number/test_rows\n",
    "print(\"correct rate:\",correct_rate)"
   ]
  }
 ]
}