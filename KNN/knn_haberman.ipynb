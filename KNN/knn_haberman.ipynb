{
 "metadata": {
  "language_info": {
   "codemirror_mode": {
    "name": "ipython",
    "version": 3
   },
   "file_extension": ".py",
   "mimetype": "text/x-python",
   "name": "python",
   "nbconvert_exporter": "python",
   "pygments_lexer": "ipython3",
   "version": "3.7.0-final"
  },
  "orig_nbformat": 2,
  "kernelspec": {
   "name": "python_defaultSpec_1600523558692",
   "display_name": "Python 3.7.0 64-bit ('tf2': conda)"
  }
 },
 "nbformat": 4,
 "nbformat_minor": 2,
 "cells": [
  {
   "cell_type": "code",
   "execution_count": 1,
   "metadata": {},
   "outputs": [
    {
     "output_type": "execute_result",
     "data": {
      "text/plain": "    0   1  2  3\n0  30  64  1  1\n1  30  62  3  1\n2  30  65  0  1",
      "text/html": "<div>\n<style scoped>\n    .dataframe tbody tr th:only-of-type {\n        vertical-align: middle;\n    }\n\n    .dataframe tbody tr th {\n        vertical-align: top;\n    }\n\n    .dataframe thead th {\n        text-align: right;\n    }\n</style>\n<table border=\"1\" class=\"dataframe\">\n  <thead>\n    <tr style=\"text-align: right;\">\n      <th></th>\n      <th>0</th>\n      <th>1</th>\n      <th>2</th>\n      <th>3</th>\n    </tr>\n  </thead>\n  <tbody>\n    <tr>\n      <th>0</th>\n      <td>30</td>\n      <td>64</td>\n      <td>1</td>\n      <td>1</td>\n    </tr>\n    <tr>\n      <th>1</th>\n      <td>30</td>\n      <td>62</td>\n      <td>3</td>\n      <td>1</td>\n    </tr>\n    <tr>\n      <th>2</th>\n      <td>30</td>\n      <td>65</td>\n      <td>0</td>\n      <td>1</td>\n    </tr>\n  </tbody>\n</table>\n</div>"
     },
     "metadata": {},
     "execution_count": 1
    }
   ],
   "source": [
    "import pandas as pd\n",
    "import numpy as np\n",
    "from sklearn import metrics\n",
    "data=pd.read_csv(\"haberman.data\",header=None)\n",
    "data.head(3)"
   ]
  },
  {
   "cell_type": "code",
   "execution_count": 2,
   "metadata": {},
   "outputs": [
    {
     "output_type": "execute_result",
     "data": {
      "text/plain": "0    int64\n1    int64\n2    int64\n3    int64\ndtype: object"
     },
     "metadata": {},
     "execution_count": 2
    }
   ],
   "source": [
    "data.dtypes"
   ]
  },
  {
   "cell_type": "code",
   "execution_count": 3,
   "metadata": {
    "tags": []
   },
   "outputs": [
    {
     "output_type": "stream",
     "name": "stdout",
     "text": "0   1  2\n0  30  64  1\n1  30  62  3 (306, 3)\n0    1\n1    1\nName: 3, dtype: int64 (306,)\n"
    }
   ],
   "source": [
    "# divide the data to two parts: features and labels\n",
    "features=data.loc[:,:2]\n",
    "labels=data.loc[:,3]\n",
    "print(features.head(2),features.shape)\n",
    "print(labels.head(2),labels.shape)"
   ]
  },
  {
   "cell_type": "code",
   "execution_count": 4,
   "metadata": {
    "tags": []
   },
   "outputs": [
    {
     "output_type": "stream",
     "name": "stdout",
     "text": "total 306:train 244,test 62\n"
    }
   ],
   "source": [
    "total_rows=len(features.index)\n",
    "train_rows=int(total_rows*0.8)\n",
    "test_rows=total_rows-train_rows\n",
    "print(\"total {}:train {},test {}\".format(total_rows,train_rows,test_rows))"
   ]
  },
  {
   "cell_type": "code",
   "execution_count": 5,
   "metadata": {
    "tags": []
   },
   "outputs": [
    {
     "output_type": "stream",
     "name": "stdout",
     "text": "train samples: (244, 3) (244,)\ntest samples: (62, 3) (62,)\n"
    }
   ],
   "source": [
    "# divide the dataset into train set and test set\n",
    "train_features=features[:train_rows].values\n",
    "train_labels=labels[:train_rows].values\n",
    "print(\"train samples:\",train_features.shape,train_labels.shape)\n",
    "test_features=features[train_rows:].values\n",
    "test_labels=labels[train_rows:].values\n",
    "print(\"test samples:\",test_features.shape,test_labels.shape)"
   ]
  },
  {
   "cell_type": "code",
   "execution_count": 24,
   "metadata": {
    "tags": []
   },
   "outputs": [],
   "source": [
    "# knn classification\n",
    "k=9\n",
    "pred_result=[]\n",
    "for i in range(test_rows):\n",
    "    f=np.tile(test_features[i],(train_features.shape[0],1))\n",
    "    diff=np.square(f-train_features).sum(axis=1)\n",
    "    sorted_indices=diff.argsort()\n",
    "    results=train_labels[sorted_indices[:k]]\n",
    "    class_count={}\n",
    "    for r in results:\n",
    "        if not class_count.__contains__(r):\n",
    "            class_count.setdefault(r,0)\n",
    "        class_count[r]+=1\n",
    "    sorted_count=sorted(class_count.items(),key=lambda x:x[1],reverse=True)\n",
    "    pred_result.append(sorted_count[0][0])"
   ]
  },
  {
   "cell_type": "code",
   "execution_count": 25,
   "metadata": {
    "tags": []
   },
   "outputs": [
    {
     "output_type": "stream",
     "name": "stdout",
     "text": "correct rate: 0.7419354838709677\n"
    }
   ],
   "source": [
    "# error rate\n",
    "correct_number=np.array(pred_result==test_labels).sum()\n",
    "correct_rate=correct_number/test_rows\n",
    "print(\"correct rate:\",correct_rate)"
   ]
  },
  {
   "cell_type": "code",
   "execution_count": 26,
   "metadata": {},
   "outputs": [
    {
     "output_type": "execute_result",
     "data": {
      "text/plain": "array([[43,  3],\n       [13,  3]], dtype=int64)"
     },
     "metadata": {},
     "execution_count": 26
    }
   ],
   "source": [
    "metrics.confusion_matrix(test_labels,pred_result)"
   ]
  },
  {
   "cell_type": "code",
   "execution_count": 27,
   "metadata": {},
   "outputs": [
    {
     "output_type": "execute_result",
     "data": {
      "text/plain": "0.8431372549019608"
     },
     "metadata": {},
     "execution_count": 27
    }
   ],
   "source": [
    "metrics.f1_score(test_labels,pred_result)"
   ]
  }
 ]
}