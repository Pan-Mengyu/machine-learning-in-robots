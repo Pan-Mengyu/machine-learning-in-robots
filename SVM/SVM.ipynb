{
 "cells": [
  {
   "cell_type": "markdown",
   "metadata": {},
   "source": [
    "# TP4\n",
    "## SVM for MNIST digit number recognition"
   ]
  },
  {
   "cell_type": "code",
   "execution_count": 1,
   "metadata": {},
   "outputs": [],
   "source": [
    "import numpy as np\n",
    "from sklearn import decomposition\n",
    "from sklearn.pipeline import make_pipeline\n",
    "from sklearn.preprocessing import StandardScaler\n",
    "from sklearn.svm import SVC\n",
    "from sklearn.metrics import accuracy_score\n",
    "from sklearn.metrics import confusion_matrix\n",
    "from sklearn.model_selection import GridSearchCV"
   ]
  },
  {
   "cell_type": "code",
   "execution_count": 2,
   "metadata": {},
   "outputs": [
    {
     "name": "stdout",
     "output_type": "stream",
     "text": [
      "(60001, 785)\n",
      "(60001, 785)\n"
     ]
    }
   ],
   "source": [
    "train_data=np.genfromtxt(\"dataset/mnist_train.csv\",delimiter=\",\",dtype=np.uint8)\n",
    "test_data=np.genfromtxt(\"dataset/mnist_train.csv\",delimiter=\",\",dtype=np.uint8)\n",
    "print(train_data.shape)\n",
    "print(test_data.shape)"
   ]
  },
  {
   "cell_type": "code",
   "execution_count": 3,
   "metadata": {},
   "outputs": [],
   "source": [
    "# ignore the header\n",
    "x_train=train_data[1:,1:]\n",
    "y_train=train_data[1:,0]\n",
    "x_test=test_data[1:,1:]\n",
    "y_test=test_data[1:,0]"
   ]
  },
  {
   "cell_type": "code",
   "execution_count": 4,
   "metadata": {},
   "outputs": [
    {
     "name": "stdout",
     "output_type": "stream",
     "text": [
      "(60000, 784)/(60000,)\n",
      "(60000, 784)/(60000,)\n"
     ]
    }
   ],
   "source": [
    "print(\"{}/{}\".format(x_train.shape,y_train.shape))\n",
    "print(\"{}/{}\".format(x_test.shape,y_test.shape))"
   ]
  },
  {
   "cell_type": "code",
   "execution_count": 5,
   "metadata": {},
   "outputs": [
    {
     "name": "stdout",
     "output_type": "stream",
     "text": [
      "(60000, 100)\n",
      "(60000, 100)\n"
     ]
    }
   ],
   "source": [
    "pca=decomposition.PCA(n_components=100)\n",
    "x_train=pca.fit_transform(x_train)\n",
    "x_test=pca.fit_transform(x_test)\n",
    "print(x_train.shape)\n",
    "print(x_test.shape)"
   ]
  },
  {
   "cell_type": "code",
   "execution_count": 6,
   "metadata": {},
   "outputs": [
    {
     "name": "stdout",
     "output_type": "stream",
     "text": [
      "(60000, 100)\n",
      "(60000, 100)\n"
     ]
    }
   ],
   "source": [
    "scaler = StandardScaler()\n",
    "x_train=scaler.fit_transform(x_train)\n",
    "x_test=scaler.fit_transform(x_test)\n",
    "print(x_train.shape)\n",
    "print(x_test.shape)"
   ]
  },
  {
   "cell_type": "code",
   "execution_count": null,
   "metadata": {},
   "outputs": [],
   "source": [
    "parameters = {'kernel':('linear', 'poly', 'rbf', 'sigmoid'), 'C':[1, 5, 10],'gamma':[\"auto\",\"scale\"]}\n",
    "clf = GridSearchCV(SVC(), parameters)\n",
    "clf.fit(x_train,y_train)"
   ]
  },
  {
   "cell_type": "code",
   "execution_count": null,
   "metadata": {},
   "outputs": [],
   "source": [
    "# best param C=10, rbf, auto"
   ]
  },
  {
   "cell_type": "code",
   "execution_count": 7,
   "metadata": {},
   "outputs": [
    {
     "data": {
      "text/plain": [
       "SVC(C=10, gamma='auto')"
      ]
     },
     "execution_count": 7,
     "metadata": {},
     "output_type": "execute_result"
    }
   ],
   "source": [
    "best_svc=SVC(kernel=\"rbf\",C=10,gamma=\"auto\")\n",
    "best_svc.fit(x_train,y_train)"
   ]
  },
  {
   "cell_type": "code",
   "execution_count": 8,
   "metadata": {},
   "outputs": [],
   "source": [
    "y_pred=best_svc.predict(x_test)"
   ]
  },
  {
   "cell_type": "code",
   "execution_count": 9,
   "metadata": {},
   "outputs": [
    {
     "name": "stdout",
     "output_type": "stream",
     "text": [
      "accuracy score: 0.9983833333333333\n",
      "confusion matrix: [[5920    0    0    0    1    1    0    0    1    0]\n",
      " [   0 6737    3    0    0    0    0    2    0    0]\n",
      " [   0    0 5946    3    1    1    1    3    1    2]\n",
      " [   0    0    4 6114    0    6    0    2    4    1]\n",
      " [   0    0    1    0 5837    0    0    2    0    2]\n",
      " [   0    0    0    4    1 5411    1    0    4    0]\n",
      " [   0    0    0    0    1    2 5915    0    0    0]\n",
      " [   0    1    3    0    3    1    0 6254    2    1]\n",
      " [   0    0    0    4    1    1    0    1 5844    0]\n",
      " [   2    0    1    2    4    1    0   11    3 5925]]\n"
     ]
    }
   ],
   "source": [
    "# evaluation\n",
    "accuracy=accuracy_score(y_test,y_pred)\n",
    "conf=confusion_matrix(y_test,y_pred)\n",
    "print(\"accuracy score: {}\".format(accuracy))\n",
    "print(\"confusion matrix: {}\".format(conf))"
   ]
  }
 ],
 "metadata": {
  "kernelspec": {
   "display_name": "Python 3",
   "language": "python",
   "name": "python3"
  },
  "language_info": {
   "codemirror_mode": {
    "name": "ipython",
    "version": 3
   },
   "file_extension": ".py",
   "mimetype": "text/x-python",
   "name": "python",
   "nbconvert_exporter": "python",
   "pygments_lexer": "ipython3",
   "version": "3.7.0"
  }
 },
 "nbformat": 4,
 "nbformat_minor": 4
}
