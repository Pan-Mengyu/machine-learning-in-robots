{
  "nbformat": 4,
  "nbformat_minor": 0,
  "metadata": {
    "colab": {
      "name": "Untitled0.ipynb",
      "provenance": [],
      "collapsed_sections": []
    },
    "kernelspec": {
      "name": "python3",
      "display_name": "Python 3"
    }
  },
  "cells": [
    {
      "cell_type": "markdown",
      "metadata": {
        "id": "M89XmAxI7HRT"
      },
      "source": [
        "# TP2"
      ]
    },
    {
      "cell_type": "code",
      "metadata": {
        "id": "Q3qTKAKB7t8a"
      },
      "source": [
        "import random\n",
        "import numpy as np"
      ],
      "execution_count": 2,
      "outputs": []
    },
    {
      "cell_type": "code",
      "metadata": {
        "id": "f37UG2BT6j5N"
      },
      "source": [
        "x=0.25\n",
        "y=0.25\n",
        "gamma=0.9 #decay\n",
        "\n",
        "# transition function\n",
        "T_a0=[[0,0,0,0],\n",
        "    [0,1-x,0,x],\n",
        "    [1-y,0,0,y],\n",
        "    [1,0,0,0]]\n",
        "T_a1=[[0,1,0,0],\n",
        "    [0,0,0,0],\n",
        "    [0,0,0,0],\n",
        "    [0,0,0,0]]\n",
        "T_a2=[[0,0,1,0],\n",
        "    [0,0,0,0],\n",
        "    [0,0,0,0],\n",
        "    [0,0,0,0]]\n",
        "T=[]\n",
        "T.append(T_a0)\n",
        "T.append(T_a1)\n",
        "T.append(T_a2)\n",
        "T=np.array(T)\n",
        "\n",
        "R=[0,0,1,10] #reward"
      ],
      "execution_count": 57,
      "outputs": []
    },
    {
      "cell_type": "code",
      "metadata": {
        "id": "AwxbZjpHAvLk"
      },
      "source": [
        "def update_V(s,v,action):\n",
        "  max=0\n",
        "  for a in range(T.shape[0]):\n",
        "    temp = 0\n",
        "    for dest in range(len(R)):\n",
        "      temp+=T[a,s,dest]*v[dest]\n",
        "    if temp>max:\n",
        "      max=temp\n",
        "      action[s]=a # update the action\n",
        "  q=R[s]+gamma*max\n",
        "  # print(q)\n",
        "  return q"
      ],
      "execution_count": 65,
      "outputs": []
    },
    {
      "cell_type": "code",
      "metadata": {
        "id": "axKk2Yvu7Mey",
        "outputId": "b903e2bd-a622-446e-dafd-a362cfcf7218",
        "colab": {
          "base_uri": "https://localhost:8080/",
          "height": 119
        }
      },
      "source": [
        "action=[1,0,0,0] # initial action\n",
        "max_iter=400 # max iteration\n",
        "V=np.array([0.0,0.0,0,0]) # initial value\n",
        "V_new=V.copy() # new state value\n",
        "print(\"initial action\",action)\n",
        "print(\"initial status\",V_new)\n",
        "for i in range(max_iter):\n",
        "  for s in range(len(R)):\n",
        "    V_new[s]=update_V(s,V,action) # update the status\n",
        "  diff=np.sqrt(np.sum((V_new-V)*(V_new-V)))\n",
        "  if diff<0.0001:\n",
        "    break\n",
        "  else:\n",
        "    V=V_new.copy()\n",
        "# check if find the bes value\n",
        "if i >=max_iter-1:\n",
        "  print(\"not converge\")\n",
        "else:\n",
        "  print(\"total iterations:\",i)\n",
        "  print(\"final difference:\",diff)\n",
        "  print(\"optimal action:\",action)\n",
        "  print(\"optimal status:\",V_new)"
      ],
      "execution_count": 68,
      "outputs": [
        {
          "output_type": "stream",
          "text": [
            "initial action [1, 0, 0, 0]\n",
            "initial status [0. 0. 0. 0.]\n",
            "total iterations: 99\n",
            "final difference: 9.512005874601215e-05\n",
            "optimal action: [1, 0, 0, 0]\n",
            "optimal status: [14.18521119 15.76139333 15.69747038 22.76664727]\n"
          ],
          "name": "stdout"
        }
      ]
    }
  ]
}